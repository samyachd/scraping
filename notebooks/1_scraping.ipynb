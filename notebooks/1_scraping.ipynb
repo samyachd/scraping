{
 "cells": [
  {
   "cell_type": "markdown",
   "id": "9d3e66b1",
   "metadata": {},
   "source": [
    "# Scraping de données\n",
    "L'objectif de ce notebook est de découvrir la bibliothèque python _BeautifulSoup_ en scrapant les données du site http://books.toscrape.com/.\n",
    "\n",
    "- _BeautifulSoup_ est une bibliothèque Python permettant d’extraire facilement des données de documents HTML ou XML. \n",
    "- Elle est généralement utilisée avec la biliothèque _requests_ pour récupérer le contenu d'une page web, puis pour parcourir ou extraire des éléments HTML (balises, attributs, texte...).\n",
    "\n",
    "Les commentaires de code sont proposés pour l'instant en français mais les noms de variables sont en anglais (vous serez amener dans la suite de la formation à travailler en anglais comme c'est souvent le cas dans le milieu professionnel)."
   ]
  },
  {
   "cell_type": "code",
   "execution_count": null,
   "id": "978d9037",
   "metadata": {},
   "outputs": [],
   "source": [
    "import requests\n",
    "from bs4 import BeautifulSoup\n",
    "import pandas as pd"
   ]
  },
  {
   "cell_type": "markdown",
   "id": "12bf2a1e",
   "metadata": {},
   "source": [
    "## 1. Parsing du HTML avec BeautifulSoup"
   ]
  },
  {
   "cell_type": "code",
   "execution_count": null,
   "id": "905b3df7",
   "metadata": {},
   "outputs": [],
   "source": [
    "# On récupère le contenu HTML d’une page\n",
    "url = \"http://books.toscrape.com/\"\n",
    "response = requests.get(url)\n",
    "\n",
    "# On stocke le contenu HTML dans une variable\n",
    "html_content = response.content\n",
    "\n",
    "# On crée un objet BeautifulSoup pour parser le HTML\n",
    "soup = BeautifulSoup(html_content, \"html.parser\")\n",
    "\n",
    "# Affichage des mille premier caractères du HTML formaté\n",
    "print(soup.prettify()[:1000])"
   ]
  },
  {
   "cell_type": "markdown",
   "id": "7cde18cb",
   "metadata": {},
   "source": [
    "`soup` est un objet BeautifulSoup qui permet de naviguer dans la structure HTML comme si c’était un arbre.\n",
    "On peut ensuite faire des recherches sur les balises, les classes, les attributs, etc.\n",
    "\n",
    "Sur le site web, ouvrir l'inspecteur pour comprendre ce que retournent les requêtes ci-dessous :"
   ]
  },
  {
   "cell_type": "code",
   "execution_count": null,
   "id": "3d735482",
   "metadata": {},
   "outputs": [],
   "source": [
    "# Affiche la balise <title>...</title>\n",
    "print(soup.title)"
   ]
  },
  {
   "cell_type": "code",
   "execution_count": null,
   "id": "28a121ae",
   "metadata": {},
   "outputs": [],
   "source": [
    "# On accède à la balise <title> et on l'affiche\n",
    "print(soup.title.text)"
   ]
  },
  {
   "cell_type": "code",
   "execution_count": null,
   "id": "0c1091c3",
   "metadata": {},
   "outputs": [],
   "source": [
    "# On accède à la balise <h1> et on l'affiche\n",
    "print(soup.find(\"h1\")) "
   ]
  },
  {
   "cell_type": "code",
   "execution_count": null,
   "id": "19d1b4e3",
   "metadata": {},
   "outputs": [],
   "source": [
    "# Récupérer tous les titres de livres de la page d’accueil\n",
    "\n",
    "# Chaque livre est dans une balise <article class=\"product_pod\">\n",
    "# On utilise find_all pour trouver toutes les balises correspondantes\n",
    "# On peut ensuite accéder aux informations de chaque livre\n",
    "books = soup.find_all(\"article\", class_=\"product_pod\")\n",
    "\n",
    "# On affiche les informations récoltées sur le premier livre de la liste\n",
    "first_book = books[0]\n",
    "print(first_book)"
   ]
  },
  {
   "cell_type": "markdown",
   "id": "6f7c6cea",
   "metadata": {},
   "source": [
    "Ouvrir l'inspecteur dans votre navigateur pour chercher **quelle balise HTML** contient le titre des livres.\n",
    "\n",
    "Compléter les cellules de la suite du notebook en suivant les indications en commentaires."
   ]
  },
  {
   "cell_type": "code",
   "execution_count": null,
   "id": "bcf37c09",
   "metadata": {},
   "outputs": [],
   "source": [
    "# On affiche le titre du premier livre\n",
    "title_first_book = \n",
    "print(title_first_book)"
   ]
  },
  {
   "cell_type": "code",
   "execution_count": null,
   "id": "343da911",
   "metadata": {},
   "outputs": [],
   "source": [
    "# On parcourt la liste des livres et on affiche le titre de chacun\n",
    "for book in books:\n",
    "    title = \n",
    "    print(title)"
   ]
  },
  {
   "cell_type": "markdown",
   "id": "57833cb1",
   "metadata": {},
   "source": [
    "Si l'on souhaite travailler sur cette liste de titres, on pourrait les ajouter à une liste vide à chaque itération de la boucle for ci-dessus.\n",
    "\n",
    "On peut également utiliser la compréhension de liste. C'est une pratique courante en python car plus concise et explicite, en particulier lorsqu'il y a plusieurs boucles _for_ imbriquées qui deviennent difficile à lire.\n",
    "\n",
    "En utilisant la [compréhension de liste](https://www.pythoniste.fr/python/comprendre-les-comprehensions-en-python/), créer une liste contenant les titres des livres récupérés dans la variable books.\n"
   ]
  },
  {
   "cell_type": "code",
   "execution_count": null,
   "id": "bececb84",
   "metadata": {},
   "outputs": [],
   "source": [
    "# Liste des titres de livres en utilisant la compréhension de liste\n",
    "titles_list = \n",
    "print(titles_list)"
   ]
  },
  {
   "cell_type": "markdown",
   "id": "fe403472",
   "metadata": {},
   "source": [
    "Afficher le nombre de livres trouvés sur la page d'accueil."
   ]
  },
  {
   "cell_type": "code",
   "execution_count": null,
   "id": "9504fb14",
   "metadata": {},
   "outputs": [],
   "source": [
    "# Nombre de livres trouvés\n",
    "books_nb = \n",
    "print(f\"Nombre de livres trouvés : {books_nb}\")"
   ]
  },
  {
   "cell_type": "markdown",
   "id": "aa7d3999",
   "metadata": {},
   "source": [
    "Chercher les balises HTML permettant d'afficher les informations suivantes : "
   ]
  },
  {
   "cell_type": "code",
   "execution_count": null,
   "id": "8a372935",
   "metadata": {},
   "outputs": [],
   "source": [
    "# Prix du premier livre\n",
    "price_first_book = \n",
    "print(f\"Prix du premier livre : {price_first_book}\")"
   ]
  },
  {
   "cell_type": "markdown",
   "id": "4b6c6954",
   "metadata": {},
   "source": [
    "Afficher la note (_rating_) du premier livre."
   ]
  },
  {
   "cell_type": "code",
   "execution_count": null,
   "id": "9c217cae",
   "metadata": {},
   "outputs": [],
   "source": [
    "# Afficher la note (rating) du premier livre\n",
    "rating_first_book = \n",
    "print(f\"Note du premier livre : {rating_first_book}\")"
   ]
  },
  {
   "cell_type": "markdown",
   "id": "7240c183",
   "metadata": {},
   "source": [
    "Compléter la cellule suivante en s'inspirant du modèle ci-dessus."
   ]
  },
  {
   "cell_type": "code",
   "execution_count": null,
   "id": "f97f6c43",
   "metadata": {},
   "outputs": [],
   "source": [
    "# Pour chaque livre, on souhaite afficher : le prix, le titre et la disponibilité\n",
    "for book in books:\n",
    "    title = \n",
    "    price = \n",
    "    availability = \n",
    "    print(f\"Titre : {title}, Prix : {price}, Disponibilité : {availability}\")"
   ]
  },
  {
   "cell_type": "markdown",
   "id": "f18b886c",
   "metadata": {},
   "source": [
    "---\n",
    "## 2. Fonctions python d'extraction des données\n",
    "\n",
    "**Généralités**\n",
    "\n",
    "Une fonction est une portion de code effectuant une suite d'instructions. \n",
    "\n",
    "Chaque fonction effectue en général une tâche unique et précise. Si cela se complique, il est plus judicieux d'écrire plusieurs fonctions (qui peuvent éventuellement s'appeler les unes les autres).\n",
    "\n",
    "`def` permet de definir la fonction.\n",
    "Si on souhaite que la fonction renvoie quelque chose, il faut utiliser le mot-clé `return`.\n",
    "On utilise des docstrings (=documentation) sous le format \"\"\" Explications de la fonction \"\"\" qui fournit des informations sur ce que fait la fonction, quelles sont les paramètres d'entrée (Args) et que renvoie la fonction (Returns).\n",
    "\n",
    "--> [Ressources fonctions python](https://python.sdv.u-paris.fr/10_fonctions/)\n",
    "\n",
    "---\n",
    "\n",
    "En suivant les documentations de fonction et en utilisant le travail de la partie précédente, implémenter les fonctions permettant d'extraire les informations des livres.\n",
    "\n",
    "\n",
    "\n",
    "**Note**\n",
    "\n",
    "Un Ctrl+clic sur le nom de n'importe quelle fonction vous emmène à la définition de cette fonction.\n"
   ]
  },
  {
   "cell_type": "code",
   "execution_count": null,
   "id": "03144818",
   "metadata": {},
   "outputs": [],
   "source": [
    "# Fonction pour extraire le titre d'un livre\n",
    "def extract_title(book: BeautifulSoup) -> str:\n",
    "    \"\"\"Extract the title of a book from a BeautifulSoup object.\n",
    "\n",
    "    Args:\n",
    "        book (BeautifulSoup): The HTML element of the book.\n",
    "\n",
    "    Returns:\n",
    "        str: The title of the book.\n",
    "    \"\"\"\n"
   ]
  },
  {
   "cell_type": "code",
   "execution_count": null,
   "id": "ade70bc7",
   "metadata": {},
   "outputs": [],
   "source": [
    "# Fonction pour extraire le prix d'un livre\n",
    "def extract_price(book: BeautifulSoup) -> str:\n",
    "    \"\"\"Extract the price of a book from a BeautifulSoup object.\n",
    "\n",
    "    Args:\n",
    "        book (BeautifulSoup): The HTML element of the book.\n",
    "\n",
    "    Returns:\n",
    "        str: The price of the book.\n",
    "    \"\"\"\n"
   ]
  },
  {
   "cell_type": "code",
   "execution_count": null,
   "id": "6e1fb522",
   "metadata": {},
   "outputs": [],
   "source": [
    "# Fonction pour extraire la note d'un livre\n",
    "def extract_rating(book: BeautifulSoup) -> str:\n",
    "    \"\"\"Extract the rating of a book from a BeautifulSoup object.\n",
    "\n",
    "    Args:\n",
    "        book (BeautifulSoup): The HTML element of the book.\n",
    "\n",
    "    Returns:\n",
    "        str: The rating of the book.\n",
    "    \"\"\"\n"
   ]
  },
  {
   "cell_type": "code",
   "execution_count": null,
   "id": "a2561562",
   "metadata": {},
   "outputs": [],
   "source": [
    "# Fonction pour extraire la disponibilité d'un livre\n",
    "def extract_availability(book: BeautifulSoup) -> str:\n",
    "    \"\"\"Extract the availability of a book from a BeautifulSoup object.\n",
    "\n",
    "    Args:\n",
    "        book (BeautifulSoup): The HTML element of the book.\n",
    "\n",
    "    Returns:\n",
    "        str: The availability of the book.\n",
    "    \"\"\"\n"
   ]
  },
  {
   "cell_type": "markdown",
   "id": "465ca098",
   "metadata": {},
   "source": [
    "Créer une fonction qui combine les informations d'un livre dans un dictionnaire sous la forme :\n",
    " \n",
    " {\n",
    "    \"title\": \"Titre du livre\",\n",
    "     \"price\": \"Prix du livre\",\n",
    "     \"rating\": \"Note du livre\",\n",
    "     \"availability\": \"Disponibilité du livre\"\n",
    " }"
   ]
  },
  {
   "cell_type": "code",
   "execution_count": null,
   "id": "4a52ab5f",
   "metadata": {},
   "outputs": [],
   "source": [
    "# Fonction qui combine les informations d'un livre dans un dictionnaire\n",
    "def extract_book_info(book: BeautifulSoup) -> dict:\n",
    "    \"\"\"Extract all information of a book from a BeautifulSoup object.\n",
    "\n",
    "    Args:\n",
    "        book (BeautifulSoup): The HTML element of the book.\n",
    "\n",
    "    Returns:\n",
    "        dict: A dictionary containing the title, price, rating, and availability of the book.\n",
    "    \"\"\"\n"
   ]
  },
  {
   "cell_type": "markdown",
   "id": "2ff1821c",
   "metadata": {},
   "source": [
    "\n",
    "En utilisant :\n",
    "- la fonction `extract_book_info` implémentée ci-dessus,\n",
    "- la [compréhension de liste](https://www.pythoniste.fr/python/comprendre-les-comprehensions-en-python/)\n",
    "\n",
    "créer une liste `data_books` qui contient des dictionnaires décrivant les informations disponibles pour chaque livres, sous la forme :\n",
    "\n",
    "```\n",
    "[\n",
    "    {\"title\": \"A Light in the ...\", \"price\": \"£51.77\", \"availability\": \"In stock\"},\n",
    "    {\"title\": \"Tipping the Velvet\", \"price\": \"£53.74\", \"availability\": \"In stock\"},\n",
    "    ...\n",
    "]\n",
    "```"
   ]
  },
  {
   "cell_type": "code",
   "execution_count": null,
   "id": "27ef3a24",
   "metadata": {},
   "outputs": [],
   "source": [
    "# Création d'une liste de dictionnaires contenant les informations de chaque livre\n",
    "data_books = \n",
    "\n",
    "# Affichage des 5 premiers livres\n",
    "print(data_books[:5]) "
   ]
  },
  {
   "cell_type": "markdown",
   "id": "797666f5",
   "metadata": {},
   "source": [
    "On aurait pu créer la liste de dictionnaires en utilisant une boucle for et en ne passant pas par l'utilisation de fonctions.\n",
    "\n",
    "--> **Il y a toujours de nombreuses manières de coder une solution pour arriver à un même résultat.** \n"
   ]
  },
  {
   "cell_type": "markdown",
   "id": "a2842fdb",
   "metadata": {},
   "source": [
    "Pourquoi on propose ici de segmenter le code dans de très courtes fonctions python ?\n",
    "\n",
    "- Ici le cas d'application est simple donc les fonctions sont très courtes, la méthode utilisée ici s'adapte bien à des structure de données sont plus complexes.\n",
    "\n",
    "- Le code est plus évolutif et maintenable : \n",
    "\n",
    "Chaque structure de données peut évoluer séparément dans le HTML. Si une structure évolue il est simple de mettre à jour une fonction qui extrait cette donnnées plutôt que de devoir chercher dans le code chaque endroit où cette donnée est extraite.\n",
    "\n",
    "\n",
    "- Chaque fonction peut être testée individuellement.\n",
    "- Le code est plus compréhensible pour le lecteur."
   ]
  },
  {
   "cell_type": "markdown",
   "id": "2e93a726",
   "metadata": {},
   "source": [
    "Utiliser pandas pour afficher _data_books_ dans un dataframe."
   ]
  },
  {
   "cell_type": "code",
   "execution_count": null,
   "id": "5ae930a2",
   "metadata": {},
   "outputs": [],
   "source": [
    "# Création d'un DataFrame à partir de la liste\n",
    "df_books = \n",
    "\n",
    "# Afficher le début du DataFrame\n",
    "print(df_books.head())"
   ]
  },
  {
   "cell_type": "markdown",
   "id": "71f06599",
   "metadata": {},
   "source": [
    "---\n",
    "## 3. Itération sur plusieurs pages HTML"
   ]
  },
  {
   "cell_type": "markdown",
   "id": "a6c73b2c",
   "metadata": {},
   "source": [
    "Dans la partie précédente, on a scrapé uniquement la page d'accueil.\n",
    "\n",
    "A présent, on souhaite récupérer les données de 50 pages du catalogue.\n",
    "\n",
    "- Implémenter une fonction qui récupère le contenu HTML d'une page à partir de son url (cf partie 1.)\n",
    "- Implémenter une fonction qui crée une liste dictionnaire avec les informations de chaque livres de la page (utiliser la fonction `extract_book_info`)."
   ]
  },
  {
   "cell_type": "code",
   "execution_count": null,
   "id": "ba4ed1d6",
   "metadata": {},
   "outputs": [],
   "source": [
    "def get_books_html(url: str) -> BeautifulSoup:\n",
    "    \"\"\"Fetch the HTML content of a book page.\n",
    "\n",
    "    Args:\n",
    "        url (str): The URL of the book page.\n",
    "\n",
    "    Returns:\n",
    "        BeautifulSoup: A BeautifulSoup object containing the HTML content.\n",
    "    \"\"\"\n"
   ]
  },
  {
   "cell_type": "code",
   "execution_count": null,
   "id": "61dad9a9",
   "metadata": {},
   "outputs": [],
   "source": [
    "# Test de la fonction get_book_html avec la page 2\n",
    "get_books_html(\"http://books.toscrape.com/catalogue/page-2.html\")"
   ]
  },
  {
   "cell_type": "markdown",
   "id": "933ef81f",
   "metadata": {},
   "source": [
    "Naviguer sur le site pour comprendre quel est le format des URL des différentes pages du catalogue.\n"
   ]
  },
  {
   "cell_type": "markdown",
   "id": "0ab19c24",
   "metadata": {},
   "source": [
    "- Créer une variable _base_url_ dans laquelle vous viendrez par la suite mettre à jour la partie qui varie.\n",
    "- Pour chaque page :\n",
    "    - Construire l’URL adapté, \n",
    "    - Utiliser la fonction `get_books_html` pour récupérer les livres de la page,\n",
    "    - Utiliser la compréhension de liste (cf ci-dessus pour créer `data_books`) et la fonction `extract_book_info` pour obtenir une liste de dictionnaire des titres, prix, note et disponibilité des livres contenus dans la page,\n",
    "- Créer une liste qui contiendra tous les dictionnaires scrapés."
   ]
  },
  {
   "cell_type": "code",
   "execution_count": null,
   "id": "a0d53140",
   "metadata": {},
   "outputs": [],
   "source": [
    "# Parcourir les pages et récupérer les livres\n",
    "def scrape_books(pages: int) -> list[dict]:\n",
    "    \"\"\"Scrape books from the specified number of pages.\n",
    "\n",
    "    Args:\n",
    "        pages (int): The number of pages to scrape.\n",
    "\n",
    "    Returns:\n",
    "        list: A list of dictionaries containing books information.\n",
    "    \"\"\"\n"
   ]
  },
  {
   "cell_type": "code",
   "execution_count": null,
   "id": "37d86eb6",
   "metadata": {},
   "outputs": [],
   "source": [
    "# Test de la fonction scrape_books avec 50 pages\n",
    "data_books = scrape_books(50)\n",
    "print(scrape_books(50)[:5]) "
   ]
  },
  {
   "cell_type": "markdown",
   "id": "8f43b2f0",
   "metadata": {},
   "source": [
    "Créer un DataFrame avec les données scrapées,"
   ]
  },
  {
   "cell_type": "code",
   "execution_count": null,
   "id": "d3b9566c",
   "metadata": {},
   "outputs": [],
   "source": [
    "# Création d'un DataFrame à partir de la liste\n",
    "df_books = "
   ]
  },
  {
   "cell_type": "code",
   "execution_count": null,
   "id": "3ee951f4",
   "metadata": {},
   "outputs": [],
   "source": [
    "# Nombre de livres scrapés\n",
    "books_nb = \n",
    "print(f\"Nombre de livres scrapés : {books_nb}\")"
   ]
  },
  {
   "cell_type": "markdown",
   "id": "64e6a246",
   "metadata": {},
   "source": [
    "Chercher dans la doc [pandas](https://pandas.pydata.org/docs/) la fonction permettant de sauvegarder les données dans un fichier CSV.\n",
    "\n",
    "Sauvegarder les données dans un fichier _books_infos.csv_\n"
   ]
  },
  {
   "cell_type": "code",
   "execution_count": null,
   "id": "37c15c3c",
   "metadata": {},
   "outputs": [],
   "source": [
    "# Sauvegarder les données dans un fichier csv\n"
   ]
  }
 ],
 "metadata": {
  "kernelspec": {
   "display_name": ".venv",
   "language": "python",
   "name": "python3"
  },
  "language_info": {
   "codemirror_mode": {
    "name": "ipython",
    "version": 3
   },
   "file_extension": ".py",
   "mimetype": "text/x-python",
   "name": "python",
   "nbconvert_exporter": "python",
   "pygments_lexer": "ipython3",
   "version": "3.12.3"
  }
 },
 "nbformat": 4,
 "nbformat_minor": 5
}
