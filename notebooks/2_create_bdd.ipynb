{
 "cells": [
  {
   "cell_type": "markdown",
   "id": "5c38e090",
   "metadata": {},
   "source": [
    "# Traitement et stockage des données issues du scraping\n",
    "\n",
    "Vous avez scrapé les données du site de livres et les avez stockées dans un fichier. \n",
    "\n",
    "L'objectif de ce notebook est de créer une base de données pour y stocker ces données."
   ]
  },
  {
   "cell_type": "code",
   "execution_count": 1,
   "id": "fc007873",
   "metadata": {},
   "outputs": [],
   "source": [
    "import sqlite3\n",
    "import pandas as pd"
   ]
  },
  {
   "cell_type": "markdown",
   "id": "dd34cc58",
   "metadata": {},
   "source": [
    "Lire les données du fichier sauvegardé en utilisant pandas."
   ]
  },
  {
   "cell_type": "code",
   "execution_count": 2,
   "id": "8aa4b567",
   "metadata": {},
   "outputs": [
    {
     "data": {
      "application/vnd.microsoft.datawrangler.viewer.v0+json": {
       "columns": [
        {
         "name": "index",
         "rawType": "int64",
         "type": "integer"
        },
        {
         "name": "Unnamed: 0",
         "rawType": "int64",
         "type": "integer"
        },
        {
         "name": "title",
         "rawType": "object",
         "type": "string"
        },
        {
         "name": "price",
         "rawType": "object",
         "type": "string"
        },
        {
         "name": "rating",
         "rawType": "object",
         "type": "string"
        },
        {
         "name": "availability",
         "rawType": "object",
         "type": "string"
        }
       ],
       "ref": "0a4c1940-aaf5-48bd-8a64-b3e172f8feef",
       "rows": [
        [
         "0",
         "0",
         "Frankenstein",
         "£38.00",
         "Two",
         "In stock"
        ],
        [
         "1",
         "1",
         "Forever Rockers (The Rocker #12)",
         "£28.80",
         "Three",
         "In stock"
        ],
        [
         "2",
         "2",
         "Fighting Fate (Fighting #6)",
         "£39.24",
         "Three",
         "In stock"
        ],
        [
         "3",
         "3",
         "Emma",
         "£32.93",
         "Two",
         "In stock"
        ],
        [
         "4",
         "4",
         "Eat, Pray, Love",
         "£51.32",
         "Three",
         "In stock"
        ],
        [
         "5",
         "5",
         "Deep Under (Walker Security #1)",
         "£47.09",
         "Five",
         "In stock"
        ],
        [
         "6",
         "6",
         "Choosing Our Religion: The Spiritual Lives of America's Nones",
         "£28.42",
         "Four",
         "In stock"
        ],
        [
         "7",
         "7",
         "Charlie and the Chocolate Factory (Charlie Bucket #1)",
         "£22.85",
         "Three",
         "In stock"
        ],
        [
         "8",
         "8",
         "Charity's Cross (Charles Towne Belles #4)",
         "£41.24",
         "One",
         "In stock"
        ],
        [
         "9",
         "9",
         "Bright Lines",
         "£39.07",
         "Five",
         "In stock"
        ],
        [
         "10",
         "10",
         "Bridget Jones's Diary (Bridget Jones #1)",
         "£29.82",
         "One",
         "In stock"
        ],
        [
         "11",
         "11",
         "Bounty (Colorado Mountain #7)",
         "£37.26",
         "Four",
         "In stock"
        ],
        [
         "12",
         "12",
         "Blood Defense (Samantha Brinkman #1)",
         "£20.30",
         "Three",
         "In stock"
        ],
        [
         "13",
         "13",
         "Bleach, Vol. 1: Strawberry and the Soul Reapers (Bleach #1)",
         "£34.65",
         "Five",
         "In stock"
        ],
        [
         "14",
         "14",
         "Beyond Good and Evil",
         "£43.38",
         "One",
         "In stock"
        ],
        [
         "15",
         "15",
         "Alice in Wonderland (Alice's Adventures in Wonderland #1)",
         "£55.53",
         "One",
         "In stock"
        ],
        [
         "16",
         "16",
         "Ajin: Demi-Human, Volume 1 (Ajin: Demi-Human #1)",
         "£57.06",
         "Four",
         "In stock"
        ],
        [
         "17",
         "17",
         "A Spy's Devotion (The Regency Spies of London #1)",
         "£16.97",
         "Five",
         "In stock"
        ],
        [
         "18",
         "18",
         "1st to Die (Women's Murder Club #1)",
         "£53.98",
         "One",
         "In stock"
        ],
        [
         "19",
         "19",
         "1,000 Places to See Before You Die",
         "£26.08",
         "Five",
         "In stock"
        ]
       ],
       "shape": {
        "columns": 5,
        "rows": 20
       }
      },
      "text/html": [
       "<div>\n",
       "<style scoped>\n",
       "    .dataframe tbody tr th:only-of-type {\n",
       "        vertical-align: middle;\n",
       "    }\n",
       "\n",
       "    .dataframe tbody tr th {\n",
       "        vertical-align: top;\n",
       "    }\n",
       "\n",
       "    .dataframe thead th {\n",
       "        text-align: right;\n",
       "    }\n",
       "</style>\n",
       "<table border=\"1\" class=\"dataframe\">\n",
       "  <thead>\n",
       "    <tr style=\"text-align: right;\">\n",
       "      <th></th>\n",
       "      <th>Unnamed: 0</th>\n",
       "      <th>title</th>\n",
       "      <th>price</th>\n",
       "      <th>rating</th>\n",
       "      <th>availability</th>\n",
       "    </tr>\n",
       "  </thead>\n",
       "  <tbody>\n",
       "    <tr>\n",
       "      <th>0</th>\n",
       "      <td>0</td>\n",
       "      <td>Frankenstein</td>\n",
       "      <td>£38.00</td>\n",
       "      <td>Two</td>\n",
       "      <td>In stock</td>\n",
       "    </tr>\n",
       "    <tr>\n",
       "      <th>1</th>\n",
       "      <td>1</td>\n",
       "      <td>Forever Rockers (The Rocker #12)</td>\n",
       "      <td>£28.80</td>\n",
       "      <td>Three</td>\n",
       "      <td>In stock</td>\n",
       "    </tr>\n",
       "    <tr>\n",
       "      <th>2</th>\n",
       "      <td>2</td>\n",
       "      <td>Fighting Fate (Fighting #6)</td>\n",
       "      <td>£39.24</td>\n",
       "      <td>Three</td>\n",
       "      <td>In stock</td>\n",
       "    </tr>\n",
       "    <tr>\n",
       "      <th>3</th>\n",
       "      <td>3</td>\n",
       "      <td>Emma</td>\n",
       "      <td>£32.93</td>\n",
       "      <td>Two</td>\n",
       "      <td>In stock</td>\n",
       "    </tr>\n",
       "    <tr>\n",
       "      <th>4</th>\n",
       "      <td>4</td>\n",
       "      <td>Eat, Pray, Love</td>\n",
       "      <td>£51.32</td>\n",
       "      <td>Three</td>\n",
       "      <td>In stock</td>\n",
       "    </tr>\n",
       "    <tr>\n",
       "      <th>5</th>\n",
       "      <td>5</td>\n",
       "      <td>Deep Under (Walker Security #1)</td>\n",
       "      <td>£47.09</td>\n",
       "      <td>Five</td>\n",
       "      <td>In stock</td>\n",
       "    </tr>\n",
       "    <tr>\n",
       "      <th>6</th>\n",
       "      <td>6</td>\n",
       "      <td>Choosing Our Religion: The Spiritual Lives of ...</td>\n",
       "      <td>£28.42</td>\n",
       "      <td>Four</td>\n",
       "      <td>In stock</td>\n",
       "    </tr>\n",
       "    <tr>\n",
       "      <th>7</th>\n",
       "      <td>7</td>\n",
       "      <td>Charlie and the Chocolate Factory (Charlie Buc...</td>\n",
       "      <td>£22.85</td>\n",
       "      <td>Three</td>\n",
       "      <td>In stock</td>\n",
       "    </tr>\n",
       "    <tr>\n",
       "      <th>8</th>\n",
       "      <td>8</td>\n",
       "      <td>Charity's Cross (Charles Towne Belles #4)</td>\n",
       "      <td>£41.24</td>\n",
       "      <td>One</td>\n",
       "      <td>In stock</td>\n",
       "    </tr>\n",
       "    <tr>\n",
       "      <th>9</th>\n",
       "      <td>9</td>\n",
       "      <td>Bright Lines</td>\n",
       "      <td>£39.07</td>\n",
       "      <td>Five</td>\n",
       "      <td>In stock</td>\n",
       "    </tr>\n",
       "    <tr>\n",
       "      <th>10</th>\n",
       "      <td>10</td>\n",
       "      <td>Bridget Jones's Diary (Bridget Jones #1)</td>\n",
       "      <td>£29.82</td>\n",
       "      <td>One</td>\n",
       "      <td>In stock</td>\n",
       "    </tr>\n",
       "    <tr>\n",
       "      <th>11</th>\n",
       "      <td>11</td>\n",
       "      <td>Bounty (Colorado Mountain #7)</td>\n",
       "      <td>£37.26</td>\n",
       "      <td>Four</td>\n",
       "      <td>In stock</td>\n",
       "    </tr>\n",
       "    <tr>\n",
       "      <th>12</th>\n",
       "      <td>12</td>\n",
       "      <td>Blood Defense (Samantha Brinkman #1)</td>\n",
       "      <td>£20.30</td>\n",
       "      <td>Three</td>\n",
       "      <td>In stock</td>\n",
       "    </tr>\n",
       "    <tr>\n",
       "      <th>13</th>\n",
       "      <td>13</td>\n",
       "      <td>Bleach, Vol. 1: Strawberry and the Soul Reaper...</td>\n",
       "      <td>£34.65</td>\n",
       "      <td>Five</td>\n",
       "      <td>In stock</td>\n",
       "    </tr>\n",
       "    <tr>\n",
       "      <th>14</th>\n",
       "      <td>14</td>\n",
       "      <td>Beyond Good and Evil</td>\n",
       "      <td>£43.38</td>\n",
       "      <td>One</td>\n",
       "      <td>In stock</td>\n",
       "    </tr>\n",
       "    <tr>\n",
       "      <th>15</th>\n",
       "      <td>15</td>\n",
       "      <td>Alice in Wonderland (Alice's Adventures in Won...</td>\n",
       "      <td>£55.53</td>\n",
       "      <td>One</td>\n",
       "      <td>In stock</td>\n",
       "    </tr>\n",
       "    <tr>\n",
       "      <th>16</th>\n",
       "      <td>16</td>\n",
       "      <td>Ajin: Demi-Human, Volume 1 (Ajin: Demi-Human #1)</td>\n",
       "      <td>£57.06</td>\n",
       "      <td>Four</td>\n",
       "      <td>In stock</td>\n",
       "    </tr>\n",
       "    <tr>\n",
       "      <th>17</th>\n",
       "      <td>17</td>\n",
       "      <td>A Spy's Devotion (The Regency Spies of London #1)</td>\n",
       "      <td>£16.97</td>\n",
       "      <td>Five</td>\n",
       "      <td>In stock</td>\n",
       "    </tr>\n",
       "    <tr>\n",
       "      <th>18</th>\n",
       "      <td>18</td>\n",
       "      <td>1st to Die (Women's Murder Club #1)</td>\n",
       "      <td>£53.98</td>\n",
       "      <td>One</td>\n",
       "      <td>In stock</td>\n",
       "    </tr>\n",
       "    <tr>\n",
       "      <th>19</th>\n",
       "      <td>19</td>\n",
       "      <td>1,000 Places to See Before You Die</td>\n",
       "      <td>£26.08</td>\n",
       "      <td>Five</td>\n",
       "      <td>In stock</td>\n",
       "    </tr>\n",
       "  </tbody>\n",
       "</table>\n",
       "</div>"
      ],
      "text/plain": [
       "    Unnamed: 0                                              title   price  \\\n",
       "0            0                                       Frankenstein  £38.00   \n",
       "1            1                   Forever Rockers (The Rocker #12)  £28.80   \n",
       "2            2                        Fighting Fate (Fighting #6)  £39.24   \n",
       "3            3                                               Emma  £32.93   \n",
       "4            4                                    Eat, Pray, Love  £51.32   \n",
       "5            5                    Deep Under (Walker Security #1)  £47.09   \n",
       "6            6  Choosing Our Religion: The Spiritual Lives of ...  £28.42   \n",
       "7            7  Charlie and the Chocolate Factory (Charlie Buc...  £22.85   \n",
       "8            8          Charity's Cross (Charles Towne Belles #4)  £41.24   \n",
       "9            9                                       Bright Lines  £39.07   \n",
       "10          10           Bridget Jones's Diary (Bridget Jones #1)  £29.82   \n",
       "11          11                      Bounty (Colorado Mountain #7)  £37.26   \n",
       "12          12               Blood Defense (Samantha Brinkman #1)  £20.30   \n",
       "13          13  Bleach, Vol. 1: Strawberry and the Soul Reaper...  £34.65   \n",
       "14          14                               Beyond Good and Evil  £43.38   \n",
       "15          15  Alice in Wonderland (Alice's Adventures in Won...  £55.53   \n",
       "16          16   Ajin: Demi-Human, Volume 1 (Ajin: Demi-Human #1)  £57.06   \n",
       "17          17  A Spy's Devotion (The Regency Spies of London #1)  £16.97   \n",
       "18          18                1st to Die (Women's Murder Club #1)  £53.98   \n",
       "19          19                 1,000 Places to See Before You Die  £26.08   \n",
       "\n",
       "   rating availability  \n",
       "0     Two     In stock  \n",
       "1   Three     In stock  \n",
       "2   Three     In stock  \n",
       "3     Two     In stock  \n",
       "4   Three     In stock  \n",
       "5    Five     In stock  \n",
       "6    Four     In stock  \n",
       "7   Three     In stock  \n",
       "8     One     In stock  \n",
       "9    Five     In stock  \n",
       "10    One     In stock  \n",
       "11   Four     In stock  \n",
       "12  Three     In stock  \n",
       "13   Five     In stock  \n",
       "14    One     In stock  \n",
       "15    One     In stock  \n",
       "16   Four     In stock  \n",
       "17   Five     In stock  \n",
       "18    One     In stock  \n",
       "19   Five     In stock  "
      ]
     },
     "execution_count": 2,
     "metadata": {},
     "output_type": "execute_result"
    }
   ],
   "source": [
    "# Lire les données du fichier que vous venez d'enregistrer\n",
    "df_books = pd.read_csv('../books_infos.csv')\n",
    "df_books"
   ]
  },
  {
   "cell_type": "markdown",
   "id": "56d48fb1",
   "metadata": {},
   "source": [
    "## 1. Prétraitement des données\n",
    "\n",
    "On souhaite créer la table _book_ contenant les attributs suivants : \n",
    "- id : INT, PK,\n",
    "- title : TEXT,\n",
    "- price : DECIMAL\n",
    "- availability : BOOLEAN\n",
    "- rating : INT [0:5]\n",
    "\n",
    "Vérifier les types des colonnes du dataframe."
   ]
  },
  {
   "cell_type": "code",
   "execution_count": 3,
   "id": "0505d094",
   "metadata": {},
   "outputs": [
    {
     "name": "stdout",
     "output_type": "stream",
     "text": [
      "<class 'pandas.core.frame.DataFrame'>\n",
      "RangeIndex: 20 entries, 0 to 19\n",
      "Data columns (total 5 columns):\n",
      " #   Column        Non-Null Count  Dtype \n",
      "---  ------        --------------  ----- \n",
      " 0   Unnamed: 0    20 non-null     int64 \n",
      " 1   title         20 non-null     object\n",
      " 2   price         20 non-null     object\n",
      " 3   rating        20 non-null     object\n",
      " 4   availability  20 non-null     object\n",
      "dtypes: int64(1), object(4)\n",
      "memory usage: 932.0+ bytes\n",
      "None\n"
     ]
    }
   ],
   "source": [
    "# Vérification des types de données\n",
    "print(df_books.info())"
   ]
  },
  {
   "cell_type": "markdown",
   "id": "1be2df09",
   "metadata": {},
   "source": [
    "Dans les cellules qui suivent, des méthodes de traitement de données sont suggérées pour donner un aperçu de ce qu'il est possible de faire avec pandas.\n",
    "\n",
    "**Il est tout à fait possible de faire autrement.**\n",
    "\n",
    "Utiliser la méthode pandas [_astype_](https://pandas.pydata.org/pandas-docs/stable/reference/api/pandas.DataFrame.astype.html) pour convertir la colonne de titre en chaîne de caractère."
   ]
  },
  {
   "cell_type": "code",
   "execution_count": 4,
   "id": "10f0638f",
   "metadata": {},
   "outputs": [
    {
     "name": "stdout",
     "output_type": "stream",
     "text": [
      "string\n"
     ]
    }
   ],
   "source": [
    "# Conversion de title en chaîne de caractères\n",
    "df_books[\"title\"] = df_books[\"title\"].astype(\"string\")\n",
    "\n",
    "# Vérification du type de la colonne title\n",
    "print(df_books[\"title\"].dtype)"
   ]
  },
  {
   "cell_type": "markdown",
   "id": "e4e6b924",
   "metadata": {},
   "source": [
    "Pour convertir la colonne de prix en nombre décimal, il est nécessaire d'utiliser une étape intermédiaire pour retirer le caractère \"£\".\n",
    "\n",
    "Il est possible par exemple d'utiliser l'attribut [.str](https://pandas.pydata.org/pandas-docs/stable/reference/api/pandas.Series.str.html) de la série \"price\"."
   ]
  },
  {
   "cell_type": "code",
   "execution_count": 5,
   "id": "5e6bd8ce",
   "metadata": {},
   "outputs": [
    {
     "name": "stdout",
     "output_type": "stream",
     "text": [
      "float64\n"
     ]
    }
   ],
   "source": [
    "# Convertir la colonne price en type décimal\n",
    "df_books[\"price\"] = df_books['price'].str.slice(1).astype(\"float\")\n",
    "# Vérification du type de la colonne price\n",
    "\n",
    "print(df_books[\"price\"].dtype)"
   ]
  },
  {
   "cell_type": "markdown",
   "id": "a537478f",
   "metadata": {},
   "source": [
    "Convertir la colonne `availability` en boolen (True/False).\n",
    "\n",
    "Quelles sont les valeurs possibles pour la colonne availability ?"
   ]
  },
  {
   "cell_type": "code",
   "execution_count": 6,
   "id": "fbadd4ca",
   "metadata": {},
   "outputs": [],
   "source": [
    "# Valeurs possibles de la colonne availability\n"
   ]
  },
  {
   "cell_type": "markdown",
   "id": "6c12b18a",
   "metadata": {},
   "source": [
    "Créer une fonction qui prend en entrée la valeur de `availability` et qui renvoie True ou False en fonction de la valeur d'entrée."
   ]
  },
  {
   "cell_type": "code",
   "execution_count": 7,
   "id": "679627d6",
   "metadata": {},
   "outputs": [],
   "source": [
    "# Fonction pour convertir la valeur de availability en booléen\n",
    "def convert_availability(value : str) -> bool:\n",
    "    \"\"\"Convert the availability value to a boolean.\n",
    "\n",
    "    Args:\n",
    "        value (str): The availability status of the book.\n",
    "\n",
    "    Returns:\n",
    "        bool: True if the book is available, False otherwise.\n",
    "    \"\"\"\n",
    "    "
   ]
  },
  {
   "cell_type": "markdown",
   "id": "0dad009f",
   "metadata": {},
   "source": [
    "Utiliser la méthode [`apply`](https://pandas.pydata.org/pandas-docs/stable/reference/api/pandas.DataFrame.apply.html) pour appliquer la fonction à la colonne `availability`."
   ]
  },
  {
   "cell_type": "code",
   "execution_count": 8,
   "id": "3de7ec67",
   "metadata": {},
   "outputs": [
    {
     "ename": "SyntaxError",
     "evalue": "invalid syntax (1723145458.py, line 2)",
     "output_type": "error",
     "traceback": [
      "  \u001b[36mCell\u001b[39m\u001b[36m \u001b[39m\u001b[32mIn[8]\u001b[39m\u001b[32m, line 2\u001b[39m\n\u001b[31m    \u001b[39m\u001b[31mdf_books[\"availability\"] =\u001b[39m\n                               ^\n\u001b[31mSyntaxError\u001b[39m\u001b[31m:\u001b[39m invalid syntax\n"
     ]
    }
   ],
   "source": [
    "# Convertir la colonne availability en booléen (True/False)\n",
    "df_books[\"availability\"] = \n",
    "\n",
    "# Vérification du type de la colonne availability\n",
    "print(df_books[\"availability\"].dtype)"
   ]
  },
  {
   "cell_type": "markdown",
   "id": "fd9877d9",
   "metadata": {},
   "source": [
    "Convertir la colonne _rating_ en chiffre en utilisant un dictionnaire `rating_map` et la méthode [_map_](https://pandas.pydata.org/pandas-docs/stable/reference/api/pandas.Series.map.html)."
   ]
  },
  {
   "cell_type": "code",
   "execution_count": null,
   "id": "0d95564c",
   "metadata": {},
   "outputs": [
    {
     "ename": "",
     "evalue": "",
     "output_type": "error",
     "traceback": [
      "\u001b[1;31mnotebook controller is DISPOSED. \n",
      "\u001b[1;31mView Jupyter <a href='command:jupyter.viewOutput'>log</a> for further details."
     ]
    },
    {
     "ename": "",
     "evalue": "",
     "output_type": "error",
     "traceback": [
      "\u001b[1;31mnotebook controller is DISPOSED. \n",
      "\u001b[1;31mView Jupyter <a href='command:jupyter.viewOutput'>log</a> for further details."
     ]
    },
    {
     "ename": "",
     "evalue": "",
     "output_type": "error",
     "traceback": [
      "\u001b[1;31mnotebook controller is DISPOSED. \n",
      "\u001b[1;31mView Jupyter <a href='command:jupyter.viewOutput'>log</a> for further details."
     ]
    },
    {
     "ename": "",
     "evalue": "",
     "output_type": "error",
     "traceback": [
      "\u001b[1;31mnotebook controller is DISPOSED. \n",
      "\u001b[1;31mView Jupyter <a href='command:jupyter.viewOutput'>log</a> for further details."
     ]
    }
   ],
   "source": [
    "# Dictionnaire associant les notes au format initial et les valeurs numérique\n",
    "ratings_map = \n",
    "\n",
    "df_books[\"rating\"] =\n",
    "\n",
    "# Vérification du type de la colonne rating\n",
    "print(df_books[\"rating\"].dtype)"
   ]
  },
  {
   "cell_type": "code",
   "execution_count": null,
   "id": "69770cdf",
   "metadata": {},
   "outputs": [
    {
     "ename": "",
     "evalue": "",
     "output_type": "error",
     "traceback": [
      "\u001b[1;31mnotebook controller is DISPOSED. \n",
      "\u001b[1;31mView Jupyter <a href='command:jupyter.viewOutput'>log</a> for further details."
     ]
    },
    {
     "ename": "",
     "evalue": "",
     "output_type": "error",
     "traceback": [
      "\u001b[1;31mnotebook controller is DISPOSED. \n",
      "\u001b[1;31mView Jupyter <a href='command:jupyter.viewOutput'>log</a> for further details."
     ]
    },
    {
     "ename": "",
     "evalue": "",
     "output_type": "error",
     "traceback": [
      "\u001b[1;31mnotebook controller is DISPOSED. \n",
      "\u001b[1;31mView Jupyter <a href='command:jupyter.viewOutput'>log</a> for further details."
     ]
    },
    {
     "ename": "",
     "evalue": "",
     "output_type": "error",
     "traceback": [
      "\u001b[1;31mnotebook controller is DISPOSED. \n",
      "\u001b[1;31mView Jupyter <a href='command:jupyter.viewOutput'>log</a> for further details."
     ]
    }
   ],
   "source": [
    "# Créer une fonction convert_types qui combine les traitements faits dans les cellules précédentes\n",
    "def convert_types(df_books: pd.DataFrame) -> pd.DataFrame:\n",
    "    \"\"\"Convert the types of the DataFrame columns to appropriate types.\n",
    "\n",
    "    Args:\n",
    "        df_books (pd.DataFrame): The DataFrame containing book data.\n",
    "\n",
    "    Returns:\n",
    "        pd.DataFrame: The DataFrame with converted types.\n",
    "    \"\"\"\n",
    "\n",
    "\n"
   ]
  },
  {
   "cell_type": "markdown",
   "id": "b946ba92",
   "metadata": {},
   "source": [
    "---\n",
    "## 2. Insertion des données en base\n",
    "\n",
    "Dans cette section :\n",
    "- on créé une BDD sqlite  `book_store.db` (ou on se connecte à la base si elle existe déjà) en utilisant la bibliothèque python sqlite3,\n",
    "- on insère les données prétraitées dans la BDD\n",
    "\n",
    "Utiliser le [tutoriel](https://www.ionos.fr/digitalguide/sites-internet/developpement-web/sqlite3-avec-python/) pour l'utilisation de sqlite3.\n",
    "\n",
    "Utiliser la fonction pandas adaptée qui permet d'insérer un dataframe dans une BDD."
   ]
  },
  {
   "cell_type": "code",
   "execution_count": null,
   "id": "9188c10c",
   "metadata": {},
   "outputs": [
    {
     "ename": "",
     "evalue": "",
     "output_type": "error",
     "traceback": [
      "\u001b[1;31mnotebook controller is DISPOSED. \n",
      "\u001b[1;31mView Jupyter <a href='command:jupyter.viewOutput'>log</a> for further details."
     ]
    },
    {
     "ename": "",
     "evalue": "",
     "output_type": "error",
     "traceback": [
      "\u001b[1;31mnotebook controller is DISPOSED. \n",
      "\u001b[1;31mView Jupyter <a href='command:jupyter.viewOutput'>log</a> for further details."
     ]
    },
    {
     "ename": "",
     "evalue": "",
     "output_type": "error",
     "traceback": [
      "\u001b[1;31mnotebook controller is DISPOSED. \n",
      "\u001b[1;31mView Jupyter <a href='command:jupyter.viewOutput'>log</a> for further details."
     ]
    },
    {
     "ename": "",
     "evalue": "",
     "output_type": "error",
     "traceback": [
      "\u001b[1;31mnotebook controller is DISPOSED. \n",
      "\u001b[1;31mView Jupyter <a href='command:jupyter.viewOutput'>log</a> for further details."
     ]
    }
   ],
   "source": [
    "# Création de la BDD et insertion des données"
   ]
  },
  {
   "cell_type": "markdown",
   "id": "3e34bcf5",
   "metadata": {},
   "source": [
    "Vérifier le nombre de livres présents dans la BDD en utilisant sqlite3 et la requête SQL adaptée."
   ]
  },
  {
   "cell_type": "code",
   "execution_count": null,
   "id": "5671f153",
   "metadata": {},
   "outputs": [
    {
     "ename": "",
     "evalue": "",
     "output_type": "error",
     "traceback": [
      "\u001b[1;31mnotebook controller is DISPOSED. \n",
      "\u001b[1;31mView Jupyter <a href='command:jupyter.viewOutput'>log</a> for further details."
     ]
    },
    {
     "ename": "",
     "evalue": "",
     "output_type": "error",
     "traceback": [
      "\u001b[1;31mnotebook controller is DISPOSED. \n",
      "\u001b[1;31mView Jupyter <a href='command:jupyter.viewOutput'>log</a> for further details."
     ]
    },
    {
     "ename": "",
     "evalue": "",
     "output_type": "error",
     "traceback": [
      "\u001b[1;31mnotebook controller is DISPOSED. \n",
      "\u001b[1;31mView Jupyter <a href='command:jupyter.viewOutput'>log</a> for further details."
     ]
    },
    {
     "ename": "",
     "evalue": "",
     "output_type": "error",
     "traceback": [
      "\u001b[1;31mnotebook controller is DISPOSED. \n",
      "\u001b[1;31mView Jupyter <a href='command:jupyter.viewOutput'>log</a> for further details."
     ]
    }
   ],
   "source": [
    "# Compter le nombre de livre dans la BDD"
   ]
  }
 ],
 "metadata": {
  "kernelspec": {
   "display_name": ".venv",
   "language": "python",
   "name": "python3"
  },
  "language_info": {
   "codemirror_mode": {
    "name": "ipython",
    "version": 3
   },
   "file_extension": ".py",
   "mimetype": "text/x-python",
   "name": "python",
   "nbconvert_exporter": "python",
   "pygments_lexer": "ipython3",
   "version": "3.12.3"
  }
 },
 "nbformat": 4,
 "nbformat_minor": 5
}
