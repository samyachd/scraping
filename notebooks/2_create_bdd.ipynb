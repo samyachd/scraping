{
 "cells": [
  {
   "cell_type": "markdown",
   "id": "5c38e090",
   "metadata": {},
   "source": [
    "# Traitement et stockage des données issues du scraping\n",
    "\n",
    "Vous avez scrapé les données du site de livres et les avez stockées dans un fichier. \n",
    "\n",
    "L'objectif de ce notebook est de créer une base de données pour y stocker ces données."
   ]
  },
  {
   "cell_type": "code",
   "execution_count": 278,
   "id": "fc007873",
   "metadata": {},
   "outputs": [],
   "source": [
    "import sqlite3\n",
    "import pandas as pd"
   ]
  },
  {
   "cell_type": "markdown",
   "id": "dd34cc58",
   "metadata": {},
   "source": [
    "Lire les données du fichier sauvegardé en utilisant pandas."
   ]
  },
  {
   "cell_type": "code",
   "execution_count": 279,
   "id": "8aa4b567",
   "metadata": {},
   "outputs": [
    {
     "data": {
      "application/vnd.microsoft.datawrangler.viewer.v0+json": {
       "columns": [
        {
         "name": "index",
         "rawType": "int64",
         "type": "integer"
        },
        {
         "name": "index",
         "rawType": "int64",
         "type": "integer"
        },
        {
         "name": "title",
         "rawType": "object",
         "type": "string"
        },
        {
         "name": "price",
         "rawType": "object",
         "type": "string"
        },
        {
         "name": "rating",
         "rawType": "object",
         "type": "string"
        },
        {
         "name": "availability",
         "rawType": "object",
         "type": "string"
        }
       ],
       "ref": "6c3352c2-ad97-4270-8736-96ccda4c97d2",
       "rows": [
        [
         "0",
         "0",
         "A Light in the Attic",
         "£51.77",
         "Three",
         "In stock"
        ],
        [
         "1",
         "1",
         "Tipping the Velvet",
         "£53.74",
         "One",
         "In stock"
        ],
        [
         "2",
         "2",
         "Soumission",
         "£50.10",
         "One",
         "In stock"
        ],
        [
         "3",
         "3",
         "Sharp Objects",
         "£47.82",
         "Four",
         "In stock"
        ],
        [
         "4",
         "4",
         "Sapiens: A Brief History of Humankind",
         "£54.23",
         "Five",
         "In stock"
        ],
        [
         "5",
         "5",
         "The Requiem Red",
         "£22.65",
         "One",
         "In stock"
        ],
        [
         "6",
         "6",
         "The Dirty Little Secrets of Getting Your Dream Job",
         "£33.34",
         "Four",
         "In stock"
        ],
        [
         "7",
         "7",
         "The Coming Woman: A Novel Based on the Life of the Infamous Feminist, Victoria Woodhull",
         "£17.93",
         "Three",
         "In stock"
        ],
        [
         "8",
         "8",
         "The Boys in the Boat: Nine Americans and Their Epic Quest for Gold at the 1936 Berlin Olympics",
         "£22.60",
         "Four",
         "In stock"
        ],
        [
         "9",
         "9",
         "The Black Maria",
         "£52.15",
         "One",
         "In stock"
        ],
        [
         "10",
         "10",
         "Starving Hearts (Triangular Trade Trilogy, #1)",
         "£13.99",
         "Two",
         "In stock"
        ],
        [
         "11",
         "11",
         "Shakespeare's Sonnets",
         "£20.66",
         "Four",
         "In stock"
        ],
        [
         "12",
         "12",
         "Set Me Free",
         "£17.46",
         "Five",
         "In stock"
        ],
        [
         "13",
         "13",
         "Scott Pilgrim's Precious Little Life (Scott Pilgrim #1)",
         "£52.29",
         "Five",
         "In stock"
        ],
        [
         "14",
         "14",
         "Rip it Up and Start Again",
         "£35.02",
         "Five",
         "In stock"
        ],
        [
         "15",
         "15",
         "Our Band Could Be Your Life: Scenes from the American Indie Underground, 1981-1991",
         "£57.25",
         "Three",
         "In stock"
        ],
        [
         "16",
         "16",
         "Olio",
         "£23.88",
         "One",
         "In stock"
        ],
        [
         "17",
         "17",
         "Mesaerion: The Best Science Fiction Stories 1800-1849",
         "£37.59",
         "One",
         "In stock"
        ],
        [
         "18",
         "18",
         "Libertarianism for Beginners",
         "£51.33",
         "Two",
         "In stock"
        ],
        [
         "19",
         "19",
         "It's Only the Himalayas",
         "£45.17",
         "Two",
         "In stock"
        ],
        [
         "20",
         "20",
         "In Her Wake",
         "£12.84",
         "One",
         "In stock"
        ],
        [
         "21",
         "21",
         "How Music Works",
         "£37.32",
         "Two",
         "In stock"
        ],
        [
         "22",
         "22",
         "Foolproof Preserving: A Guide to Small Batch Jams, Jellies, Pickles, Condiments, and More: A Foolproof Guide to Making Small Batch Jams, Jellies, Pickles, Condiments, and More",
         "£30.52",
         "Three",
         "In stock"
        ],
        [
         "23",
         "23",
         "Chase Me (Paris Nights #2)",
         "£25.27",
         "Five",
         "In stock"
        ],
        [
         "24",
         "24",
         "Black Dust",
         "£34.53",
         "Five",
         "In stock"
        ],
        [
         "25",
         "25",
         "Birdsong: A Story in Pictures",
         "£54.64",
         "Three",
         "In stock"
        ],
        [
         "26",
         "26",
         "America's Cradle of Quarterbacks: Western Pennsylvania's Football Factory from Johnny Unitas to Joe Montana",
         "£22.50",
         "Three",
         "In stock"
        ],
        [
         "27",
         "27",
         "Aladdin and His Wonderful Lamp",
         "£53.13",
         "Three",
         "In stock"
        ],
        [
         "28",
         "28",
         "Worlds Elsewhere: Journeys Around Shakespeare’s Globe",
         "£40.30",
         "Five",
         "In stock"
        ],
        [
         "29",
         "29",
         "Wall and Piece",
         "£44.18",
         "Four",
         "In stock"
        ],
        [
         "30",
         "30",
         "The Four Agreements: A Practical Guide to Personal Freedom",
         "£17.66",
         "Five",
         "In stock"
        ],
        [
         "31",
         "31",
         "The Five Love Languages: How to Express Heartfelt Commitment to Your Mate",
         "£31.05",
         "Three",
         "In stock"
        ],
        [
         "32",
         "32",
         "The Elephant Tree",
         "£23.82",
         "Five",
         "In stock"
        ],
        [
         "33",
         "33",
         "The Bear and the Piano",
         "£36.89",
         "One",
         "In stock"
        ],
        [
         "34",
         "34",
         "Sophie's World",
         "£15.94",
         "Five",
         "In stock"
        ],
        [
         "35",
         "35",
         "Penny Maybe",
         "£33.29",
         "Three",
         "In stock"
        ],
        [
         "36",
         "36",
         "Maude (1883-1993):She Grew Up with the country",
         "£18.02",
         "Two",
         "In stock"
        ],
        [
         "37",
         "37",
         "In a Dark, Dark Wood",
         "£19.63",
         "One",
         "In stock"
        ],
        [
         "38",
         "38",
         "Behind Closed Doors",
         "£52.22",
         "Four",
         "In stock"
        ],
        [
         "39",
         "39",
         "You can't bury them all: Poems",
         "£33.63",
         "Two",
         "In stock"
        ],
        [
         "40",
         "40",
         "Slow States of Collapse: Poems",
         "£57.31",
         "Three",
         "In stock"
        ],
        [
         "41",
         "41",
         "Reasons to Stay Alive",
         "£26.41",
         "Two",
         "In stock"
        ],
        [
         "42",
         "42",
         "Private Paris (Private #10)",
         "£47.61",
         "Five",
         "In stock"
        ],
        [
         "43",
         "43",
         "#HigherSelfie: Wake Up Your Life. Free Your Soul. Find Your Tribe.",
         "£23.11",
         "Five",
         "In stock"
        ],
        [
         "44",
         "44",
         "Without Borders (Wanderlove #1)",
         "£45.07",
         "Two",
         "In stock"
        ],
        [
         "45",
         "45",
         "When We Collided",
         "£31.77",
         "One",
         "In stock"
        ],
        [
         "46",
         "46",
         "We Love You, Charlie Freeman",
         "£50.27",
         "Five",
         "In stock"
        ],
        [
         "47",
         "47",
         "Untitled Collection: Sabbath Poems 2014",
         "£14.27",
         "Four",
         "In stock"
        ],
        [
         "48",
         "48",
         "Unseen City: The Majesty of Pigeons, the Discreet Charm of Snails & Other Wonders of the Urban Wilderness",
         "£44.18",
         "Four",
         "In stock"
        ],
        [
         "49",
         "49",
         "Unicorn Tracks",
         "£18.78",
         "Three",
         "In stock"
        ]
       ],
       "shape": {
        "columns": 5,
        "rows": 1000
       }
      },
      "text/html": [
       "<div>\n",
       "<style scoped>\n",
       "    .dataframe tbody tr th:only-of-type {\n",
       "        vertical-align: middle;\n",
       "    }\n",
       "\n",
       "    .dataframe tbody tr th {\n",
       "        vertical-align: top;\n",
       "    }\n",
       "\n",
       "    .dataframe thead th {\n",
       "        text-align: right;\n",
       "    }\n",
       "</style>\n",
       "<table border=\"1\" class=\"dataframe\">\n",
       "  <thead>\n",
       "    <tr style=\"text-align: right;\">\n",
       "      <th></th>\n",
       "      <th>index</th>\n",
       "      <th>title</th>\n",
       "      <th>price</th>\n",
       "      <th>rating</th>\n",
       "      <th>availability</th>\n",
       "    </tr>\n",
       "  </thead>\n",
       "  <tbody>\n",
       "    <tr>\n",
       "      <th>0</th>\n",
       "      <td>0</td>\n",
       "      <td>A Light in the Attic</td>\n",
       "      <td>£51.77</td>\n",
       "      <td>Three</td>\n",
       "      <td>In stock</td>\n",
       "    </tr>\n",
       "    <tr>\n",
       "      <th>1</th>\n",
       "      <td>1</td>\n",
       "      <td>Tipping the Velvet</td>\n",
       "      <td>£53.74</td>\n",
       "      <td>One</td>\n",
       "      <td>In stock</td>\n",
       "    </tr>\n",
       "    <tr>\n",
       "      <th>2</th>\n",
       "      <td>2</td>\n",
       "      <td>Soumission</td>\n",
       "      <td>£50.10</td>\n",
       "      <td>One</td>\n",
       "      <td>In stock</td>\n",
       "    </tr>\n",
       "    <tr>\n",
       "      <th>3</th>\n",
       "      <td>3</td>\n",
       "      <td>Sharp Objects</td>\n",
       "      <td>£47.82</td>\n",
       "      <td>Four</td>\n",
       "      <td>In stock</td>\n",
       "    </tr>\n",
       "    <tr>\n",
       "      <th>4</th>\n",
       "      <td>4</td>\n",
       "      <td>Sapiens: A Brief History of Humankind</td>\n",
       "      <td>£54.23</td>\n",
       "      <td>Five</td>\n",
       "      <td>In stock</td>\n",
       "    </tr>\n",
       "    <tr>\n",
       "      <th>...</th>\n",
       "      <td>...</td>\n",
       "      <td>...</td>\n",
       "      <td>...</td>\n",
       "      <td>...</td>\n",
       "      <td>...</td>\n",
       "    </tr>\n",
       "    <tr>\n",
       "      <th>995</th>\n",
       "      <td>995</td>\n",
       "      <td>Alice in Wonderland (Alice's Adventures in Won...</td>\n",
       "      <td>£55.53</td>\n",
       "      <td>One</td>\n",
       "      <td>In stock</td>\n",
       "    </tr>\n",
       "    <tr>\n",
       "      <th>996</th>\n",
       "      <td>996</td>\n",
       "      <td>Ajin: Demi-Human, Volume 1 (Ajin: Demi-Human #1)</td>\n",
       "      <td>£57.06</td>\n",
       "      <td>Four</td>\n",
       "      <td>In stock</td>\n",
       "    </tr>\n",
       "    <tr>\n",
       "      <th>997</th>\n",
       "      <td>997</td>\n",
       "      <td>A Spy's Devotion (The Regency Spies of London #1)</td>\n",
       "      <td>£16.97</td>\n",
       "      <td>Five</td>\n",
       "      <td>In stock</td>\n",
       "    </tr>\n",
       "    <tr>\n",
       "      <th>998</th>\n",
       "      <td>998</td>\n",
       "      <td>1st to Die (Women's Murder Club #1)</td>\n",
       "      <td>£53.98</td>\n",
       "      <td>One</td>\n",
       "      <td>In stock</td>\n",
       "    </tr>\n",
       "    <tr>\n",
       "      <th>999</th>\n",
       "      <td>999</td>\n",
       "      <td>1,000 Places to See Before You Die</td>\n",
       "      <td>£26.08</td>\n",
       "      <td>Five</td>\n",
       "      <td>In stock</td>\n",
       "    </tr>\n",
       "  </tbody>\n",
       "</table>\n",
       "<p>1000 rows × 5 columns</p>\n",
       "</div>"
      ],
      "text/plain": [
       "     index                                              title   price rating  \\\n",
       "0        0                               A Light in the Attic  £51.77  Three   \n",
       "1        1                                 Tipping the Velvet  £53.74    One   \n",
       "2        2                                         Soumission  £50.10    One   \n",
       "3        3                                      Sharp Objects  £47.82   Four   \n",
       "4        4              Sapiens: A Brief History of Humankind  £54.23   Five   \n",
       "..     ...                                                ...     ...    ...   \n",
       "995    995  Alice in Wonderland (Alice's Adventures in Won...  £55.53    One   \n",
       "996    996   Ajin: Demi-Human, Volume 1 (Ajin: Demi-Human #1)  £57.06   Four   \n",
       "997    997  A Spy's Devotion (The Regency Spies of London #1)  £16.97   Five   \n",
       "998    998                1st to Die (Women's Murder Club #1)  £53.98    One   \n",
       "999    999                 1,000 Places to See Before You Die  £26.08   Five   \n",
       "\n",
       "    availability  \n",
       "0       In stock  \n",
       "1       In stock  \n",
       "2       In stock  \n",
       "3       In stock  \n",
       "4       In stock  \n",
       "..           ...  \n",
       "995     In stock  \n",
       "996     In stock  \n",
       "997     In stock  \n",
       "998     In stock  \n",
       "999     In stock  \n",
       "\n",
       "[1000 rows x 5 columns]"
      ]
     },
     "execution_count": 279,
     "metadata": {},
     "output_type": "execute_result"
    }
   ],
   "source": [
    "# Lire les données du fichier que vous venez d'enregistrer\n",
    "df_books = pd.read_csv('../books_infos.csv')\n",
    "df_books = df_books.rename(columns={\"Unnamed: 0\":\"index\"})\n",
    "df_books"
   ]
  },
  {
   "cell_type": "markdown",
   "id": "56d48fb1",
   "metadata": {},
   "source": [
    "## 1. Prétraitement des données\n",
    "\n",
    "On souhaite créer la table _book_ contenant les attributs suivants : \n",
    "- id : INT, PK,\n",
    "- title : TEXT,\n",
    "- price : DECIMAL\n",
    "- availability : BOOLEAN\n",
    "- rating : INT [0:5]\n",
    "\n",
    "Vérifier les types des colonnes du dataframe."
   ]
  },
  {
   "cell_type": "code",
   "execution_count": 280,
   "id": "0505d094",
   "metadata": {},
   "outputs": [
    {
     "name": "stdout",
     "output_type": "stream",
     "text": [
      "<class 'pandas.core.frame.DataFrame'>\n",
      "RangeIndex: 1000 entries, 0 to 999\n",
      "Data columns (total 5 columns):\n",
      " #   Column        Non-Null Count  Dtype \n",
      "---  ------        --------------  ----- \n",
      " 0   index         1000 non-null   int64 \n",
      " 1   title         1000 non-null   object\n",
      " 2   price         1000 non-null   object\n",
      " 3   rating        1000 non-null   object\n",
      " 4   availability  1000 non-null   object\n",
      "dtypes: int64(1), object(4)\n",
      "memory usage: 39.2+ KB\n",
      "None\n"
     ]
    }
   ],
   "source": [
    "# Vérification des types de données\n",
    "print(df_books.info())"
   ]
  },
  {
   "cell_type": "markdown",
   "id": "1be2df09",
   "metadata": {},
   "source": [
    "Dans les cellules qui suivent, des méthodes de traitement de données sont suggérées pour donner un aperçu de ce qu'il est possible de faire avec pandas.\n",
    "\n",
    "**Il est tout à fait possible de faire autrement.**\n",
    "\n",
    "Utiliser la méthode pandas [_astype_](https://pandas.pydata.org/pandas-docs/stable/reference/api/pandas.DataFrame.astype.html) pour convertir la colonne de titre en chaîne de caractère."
   ]
  },
  {
   "cell_type": "code",
   "execution_count": 281,
   "id": "10f0638f",
   "metadata": {},
   "outputs": [
    {
     "name": "stdout",
     "output_type": "stream",
     "text": [
      "string\n"
     ]
    }
   ],
   "source": [
    "# Conversion de title en chaîne de caractères\n",
    "df_books[\"title\"] = df_books[\"title\"].astype(\"string\")\n",
    "\n",
    "# Vérification du type de la colonne title\n",
    "print(df_books[\"title\"].dtype)"
   ]
  },
  {
   "cell_type": "markdown",
   "id": "e4e6b924",
   "metadata": {},
   "source": [
    "Pour convertir la colonne de prix en nombre décimal, il est nécessaire d'utiliser une étape intermédiaire pour retirer le caractère \"£\".\n",
    "\n",
    "Il est possible par exemple d'utiliser l'attribut [.str](https://pandas.pydata.org/pandas-docs/stable/reference/api/pandas.Series.str.html) de la série \"price\"."
   ]
  },
  {
   "cell_type": "code",
   "execution_count": 282,
   "id": "5e6bd8ce",
   "metadata": {},
   "outputs": [
    {
     "name": "stdout",
     "output_type": "stream",
     "text": [
      "float64\n"
     ]
    }
   ],
   "source": [
    "# Convertir la colonne price en type décimal\n",
    "df_books[\"price\"] = df_books['price'].str.slice(1).astype(\"float\")\n",
    "# Vérification du type de la colonne price\n",
    "\n",
    "print(df_books[\"price\"].dtype)"
   ]
  },
  {
   "cell_type": "markdown",
   "id": "a537478f",
   "metadata": {},
   "source": [
    "Convertir la colonne `availability` en boolen (True/False).\n",
    "\n",
    "Quelles sont les valeurs possibles pour la colonne availability ?"
   ]
  },
  {
   "cell_type": "code",
   "execution_count": 283,
   "id": "fbadd4ca",
   "metadata": {},
   "outputs": [],
   "source": [
    "# Valeurs possibles de la colonne availability\n",
    "\n",
    "# Les valeurs possible pour la colonne availability sont \"In stock\" et \"Out of stock\""
   ]
  },
  {
   "cell_type": "markdown",
   "id": "6c12b18a",
   "metadata": {},
   "source": [
    "Créer une fonction qui prend en entrée la valeur de `availability` et qui renvoie True ou False en fonction de la valeur d'entrée."
   ]
  },
  {
   "cell_type": "code",
   "execution_count": 284,
   "id": "679627d6",
   "metadata": {},
   "outputs": [],
   "source": [
    "# Fonction pour convertir la valeur de availability en booléen\n",
    "def convert_availability(value : str) -> bool:\n",
    "    if value == \"In stock\":\n",
    "        return True\n",
    "    else:\n",
    "        return False\n",
    "    \"\"\"Convert the availability value to a boolean.\n",
    "\n",
    "    Args:\n",
    "        value (str): The availability status of the book.\n",
    "\n",
    "    Returns:\n",
    "        bool: True if the book is available, False otherwise.\n",
    "    \"\"\"\n",
    "    "
   ]
  },
  {
   "cell_type": "markdown",
   "id": "0dad009f",
   "metadata": {},
   "source": [
    "Utiliser la méthode [`apply`](https://pandas.pydata.org/pandas-docs/stable/reference/api/pandas.DataFrame.apply.html) pour appliquer la fonction à la colonne `availability`."
   ]
  },
  {
   "cell_type": "code",
   "execution_count": 285,
   "id": "3de7ec67",
   "metadata": {},
   "outputs": [
    {
     "name": "stdout",
     "output_type": "stream",
     "text": [
      "bool\n"
     ]
    }
   ],
   "source": [
    "# Convertir la colonne availability en booléen (True/False)\n",
    "df_books[\"availability\"] = df_books[\"availability\"].apply(convert_availability)\n",
    "\n",
    "# Vérification du type de la colonne availability\n",
    "print(df_books[\"availability\"].dtype)"
   ]
  },
  {
   "cell_type": "markdown",
   "id": "fd9877d9",
   "metadata": {},
   "source": [
    "Convertir la colonne _rating_ en chiffre en utilisant un dictionnaire `rating_map` et la méthode [_map_](https://pandas.pydata.org/pandas-docs/stable/reference/api/pandas.Series.map.html)."
   ]
  },
  {
   "cell_type": "code",
   "execution_count": 286,
   "id": "0d95564c",
   "metadata": {},
   "outputs": [
    {
     "name": "stdout",
     "output_type": "stream",
     "text": [
      "int64\n"
     ]
    }
   ],
   "source": [
    "# Dictionnaire associant les notes au format initial et les valeurs numérique\n",
    "ratings_map = ({\"One\":1,\"Two\":2,\"Three\":3,\"Four\":4,\"Five\":5})\n",
    "\n",
    "df_books[\"rating\"] = df_books[\"rating\"].map(ratings_map)\n",
    "\n",
    "# Vérification du type de la colonne rating\n",
    "print(df_books[\"rating\"].dtype)"
   ]
  },
  {
   "cell_type": "code",
   "execution_count": 287,
   "id": "69770cdf",
   "metadata": {},
   "outputs": [
    {
     "name": "stdout",
     "output_type": "stream",
     "text": [
      "Index(['index', 'title', 'price', 'rating', 'availability'], dtype='object')\n"
     ]
    }
   ],
   "source": [
    "# Créer une fonction convert_types qui combine les traitements faits dans les cellules précédentes\n",
    "def convert_types(df_books: pd.DataFrame) -> pd.DataFrame:\n",
    "    df_books[\"title\"] = df_books[\"title\"].astype(\"string\")\n",
    "    df_books[\"rating\"] = df_books[\"rating\"].map({\"One\":1,\"Two\":2,\"Three\":3,\"Four\":4,\"Five\":5})\n",
    "    df_books[\"price\"] = df_books['price'].str.slice(1).astype(\"float\")\n",
    "    df_books[\"availability\"] = df_books[\"availability\"].map({\"In stock\":True,\"Out of stock\":False})\n",
    "    return df_books\n",
    "\n",
    "    \"\"\"Convert the types of the DataFrame columns to appropriate types.\n",
    "\n",
    "    Args:\n",
    "        df_books (pd.DataFrame): The DataFrame containing book data.\n",
    "\n",
    "    Returns:\n",
    "        pd.DataFrame: The DataFrame with converted types.\n",
    "    \"\"\"\n",
    "\n",
    "print(df_books.columns)\n",
    "\n"
   ]
  },
  {
   "cell_type": "markdown",
   "id": "b946ba92",
   "metadata": {},
   "source": [
    "---\n",
    "## 2. Insertion des données en base\n",
    "\n",
    "Dans cette section :\n",
    "- on créé une BDD sqlite  `book_store.db` (ou on se connecte à la base si elle existe déjà) en utilisant la bibliothèque python sqlite3,\n",
    "- on insère les données prétraitées dans la BDD\n",
    "\n",
    "Utiliser le [tutoriel](https://www.ionos.fr/digitalguide/sites-internet/developpement-web/sqlite3-avec-python/) pour l'utilisation de sqlite3.\n",
    "\n",
    "Utiliser la fonction pandas adaptée qui permet d'insérer un dataframe dans une BDD."
   ]
  },
  {
   "cell_type": "code",
   "execution_count": 288,
   "id": "9188c10c",
   "metadata": {},
   "outputs": [
    {
     "data": {
      "text/plain": [
       "1000"
      ]
     },
     "execution_count": 288,
     "metadata": {},
     "output_type": "execute_result"
    }
   ],
   "source": [
    "# Création de la BDD et insertion des données\n",
    "connection = sqlite3.connect(\"book_store.db\")\n",
    "\n",
    "df_books.to_sql(\"books\",connection, if_exists=\"replace\", index=False)"
   ]
  },
  {
   "cell_type": "markdown",
   "id": "3e34bcf5",
   "metadata": {},
   "source": [
    "Vérifier le nombre de livres présents dans la BDD en utilisant sqlite3 et la requête SQL adaptée."
   ]
  },
  {
   "cell_type": "code",
   "execution_count": 289,
   "id": "5671f153",
   "metadata": {},
   "outputs": [
    {
     "name": "stdout",
     "output_type": "stream",
     "text": [
      "(1000,)\n"
     ]
    }
   ],
   "source": [
    "# Compter le nombre de livre dans la BDD\n",
    "cursor = connection.cursor()\n",
    "cursor.execute(\"SELECT COUNT(*) FROM books\")\n",
    "rows = cursor.fetchall()\n",
    "print(rows[0])\n",
    "connection.close()"
   ]
  }
 ],
 "metadata": {
  "kernelspec": {
   "display_name": ".venv",
   "language": "python",
   "name": "python3"
  },
  "language_info": {
   "codemirror_mode": {
    "name": "ipython",
    "version": 3
   },
   "file_extension": ".py",
   "mimetype": "text/x-python",
   "name": "python",
   "nbconvert_exporter": "python",
   "pygments_lexer": "ipython3",
   "version": "3.12.3"
  }
 },
 "nbformat": 4,
 "nbformat_minor": 5
}
