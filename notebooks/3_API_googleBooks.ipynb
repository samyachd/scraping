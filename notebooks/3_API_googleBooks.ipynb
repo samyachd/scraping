{
 "cells": [
  {
   "cell_type": "markdown",
   "metadata": {},
   "source": [
    "# Utiliser l'API Google Books pour récupérer des données de livres\n",
    "\n",
    "## Partie 1 : Comprendre les API"
   ]
  },
  {
   "cell_type": "markdown",
   "metadata": {},
   "source": [
    "### a. Qu’est-ce qu’une API ?\n",
    "- API = Application Programming Interface\n",
    "- Une API est une interface qui permet à un programme d’accéder aux fonctionnalités ou aux données d’un autre service, sans avoir besoin de connaître son fonctionnement interne.\n",
    "- Exemple : l’API Google Books met à disposition des données sur des millions de livres, que l’on peut interroger depuis un programme Python.\n",
    "- On envoie une **requête** (question) à l’API, elle nous répond avec des **données** (souvent en JSON)"
   ]
  },
  {
   "cell_type": "markdown",
   "metadata": {},
   "source": [
    "### b. Qu’est-ce qu’une requête HTTP ?\n",
    "- HTTP = HyperText Transfer Protocol – c’est le protocole qui permet à des machines (navigateur, script Python, application mobile...) de communiquer avec des serveurs sur Internet.\n",
    "- Une requête HTTP est un message envoyé depuis un client (comme un navigateur ou un programme Python) vers un serveur web pour lui demander quelque chose.\n",
    "- Quand on ouvre un site web ou que l'on demande des données à une API, on envoie une **requête HTTP**, généralement de type :\n",
    "\n",
    "    - **GET** → pour demander des données\n",
    "    - **POST** → pour envoyer des données\n",
    "    - **PUT**, **DELETE**, etc.\n",
    "\n",
    "- L’API Google Books utilise principalement des requêtes de type GET, comme si on entrait une URL dans un navigateur pour demander des infos.\n",
    "- Une URL de requête API suit une structure bien définie :\n",
    "\n",
    "`<URL de base> ? <paramètre1>=<valeur1> & <paramètre2>=<valeur2> & ...`\n",
    "\n",
    "- URL de base : adresse du point d’entrée de l’API, aussi appelée **endpoint**.\n",
    "- ? : sépare l’URL de base des paramètres de requête.\n",
    "- Paramètres de requête (query parameters) : ajoutés sous forme de paires clé=valeur. Chaque paramètre est séparé par &.  Les paramètres possibles sont disponibles dans la documentation de chaque API."
   ]
  },
  {
   "cell_type": "markdown",
   "metadata": {},
   "source": [
    "### c. Réponse\n",
    "\n",
    "Quand on envoie une requête GET à une API, on demande au serveur de renvoyer une ressource.\n",
    "\n",
    "La réponse de ce serveur comporte deux parties essentielles :"
   ]
  },
  {
   "cell_type": "markdown",
   "metadata": {},
   "source": [
    "\n",
    "1. **Le code de status de réponse (HTTP status code)**\n",
    "\n",
    "C’est un nombre à 3 chiffres qui indique si la requête a réussi ou non.\n",
    "\n",
    "--> [Liste des codes possibles](https://developer.mozilla.org/fr/docs/Web/HTTP/Reference/Status) et leur signification\n"
   ]
  },
  {
   "cell_type": "markdown",
   "metadata": {},
   "source": [
    "2. **Le contenu de la réponse (le \"corps\")**\n",
    "\n",
    "C’est ici que se trouvent les données demandées.\n",
    "\n",
    "Ce contenu est souvent au format JSON (JavaScript Object Notation), c’est-à-dire une structure clé-valeur que Python peut facilement lire.\n",
    "\n",
    "Exemple d'un format JSON :\n",
    "```json\n",
    "{\n",
    "  \"items\": [\n",
    "    {\n",
    "      \"tripInfo\": {\n",
    "        \"country\": \"France\",\n",
    "        \"cities\": [\"Montpellier\", \"Marseille\"],\n",
    "        \"nb_photo_taken\": 200,\n",
    "        \"language\": \"fr\"\n",
    "      }\n",
    "    }\n",
    "  ]\n",
    "}\n",
    "```"
   ]
  },
  {
   "cell_type": "markdown",
   "metadata": {},
   "source": [
    "---\n",
    "## Partie 2 : Requêter Google Books API\n",
    "\n",
    "Dans cette partie vous allez : \n",
    "- Faire une requête HTTP pour interroger l'API Google Books à l'aide de la bibliothèque python _requests_,\n",
    "- Vérifier le code de status de la réponse,\n",
    "- Traiter le corps de la réponse à l'aide de la bibliothèque python _json_,\n",
    "- Utiliser _pandas_ pour convertir les données reçues en dataframe.\n"
   ]
  },
  {
   "cell_type": "code",
   "execution_count": null,
   "metadata": {},
   "outputs": [],
   "source": [
    "# Importer les bibliothèques nécessaires\n",
    "import requests\n",
    "import json\n",
    "import pandas as pd"
   ]
  },
  {
   "cell_type": "markdown",
   "metadata": {},
   "source": [
    "Pour interroger une API, un certain nombre de paramètres et filtres définis dans la documentation peuvent être utilisés. \n",
    "\n",
    "En utilisant la [documentation](https://developers.google.com/books/docs/v1/using?hl=fr#WorkingVolumes) de l'API Google Books, définir le dictionnaire de paramètres permettant de faire une recherche sur :\n",
    "- la chaîne de texte : \"food\",\n",
    "- il doit s'agir d'un e-book avec un prix d'achat,\n",
    "- le nombre maximal de résultats à renvoyer est de 40,\n",
    "- les résultats doivent être triés par pertinence."
   ]
  },
  {
   "cell_type": "code",
   "execution_count": null,
   "metadata": {},
   "outputs": [],
   "source": [
    "# URL de l'API Google Books\n",
    "url = \n",
    "\n",
    "# Dictionnaire de paramètres pour la requête\n"
   ]
  },
  {
   "cell_type": "markdown",
   "metadata": {},
   "source": [
    "En utilisant la documentation de la bibliothèque [_requests_](https://requests.readthedocs.io/en/latest/user/quickstart/):\n",
    "- implémenter la requête HTTP _get_  avec les paramètres sur l'URL définie ci-dessus,\n",
    "- vérifier le code de réponse HTTP."
   ]
  },
  {
   "cell_type": "code",
   "execution_count": null,
   "metadata": {},
   "outputs": [],
   "source": [
    "# Requêter l'API Google Books\n",
    "response = \n",
    "\n",
    "# Vérifier le code de statut de la réponse\n"
   ]
  },
  {
   "cell_type": "markdown",
   "metadata": {},
   "source": [
    "Récupérer et observer le coeur de la réponse via l'objet _response_ créé précédemment."
   ]
  },
  {
   "cell_type": "code",
   "execution_count": null,
   "metadata": {},
   "outputs": [],
   "source": [
    "# Récupérer le coeur de la réponse\n",
    "data_books_raw = \n",
    "\n",
    "# Afficher les données récupérées\n",
    "\n",
    "# Afficher le type de la variable data_books_raw\n"
   ]
  },
  {
   "cell_type": "markdown",
   "metadata": {},
   "source": [
    "- Les données relatives aux livres récupérées sont accessibles dans la clé 'items',\n",
    "- Récupérer les données relatives aux livres dans la variable data_books.\n",
    "\n",
    "**NOTE**\n",
    "\n",
    "Il existe 2 méthodes pour accéder aux valeurs d'une clé (\"nom_de_la_clé\") d'un dictionnaire python : \n",
    "- `mon_dict[\"nom_de_la_clé\"]`: si \"nom_de_la_clé\" n'est pas présent dans le dictionnaire, cela retourne une erreur.\n",
    "- `mon_dict.get(\"nom_de_la_clé\")` : si \"nom_de_la_clé\" n'est pas présent dans le dictionnaire, cela renvoie None par défault. \n",
    "Il est aussi possible d'indiquer comme second argument la variable à renvoyer si la clé n'est pas présente : \n",
    "\n",
    "`mon_dict.get(\"nom_de_la_clé\", \"clé inexistante\")`\n",
    "\n",
    "Privilégier la seconde méthode car certaines clés peuvent ne pas exister.\n",
    "\n",
    "--> [Lien ressource](https://w3schools.tech/fr/tutorial/python/python_access_dictionary_items) : accès au clé/valeurs d'un dictionnaire python"
   ]
  },
  {
   "cell_type": "code",
   "execution_count": null,
   "metadata": {},
   "outputs": [],
   "source": [
    "# Récupérer les données relatives aux livres via la clé 'items'\n",
    "data_books = \n",
    "\n",
    "# Afficher le type de la variable data_books\n"
   ]
  },
  {
   "cell_type": "markdown",
   "metadata": {},
   "source": [
    "Accéder au premier élément de _data_books_ pour afficher les données du premier livre.\n",
    "\n",
    "--> [Lien ressource](https://w3schools.tech/fr/tutorial/python/python_access_list_items) : accéder aux éléments d'une liste python"
   ]
  },
  {
   "cell_type": "code",
   "execution_count": null,
   "metadata": {},
   "outputs": [],
   "source": [
    "# Afficher le premier livre\n"
   ]
  },
  {
   "cell_type": "markdown",
   "metadata": {},
   "source": [
    "Dans les données du premier livre, chercher où se trouve les informations suivantes (il peut s'agir de dictionnaires imbriqués) :\n",
    "- le titre,\n",
    "- le prix,\n",
    "- la note (_averageRating_)\n",
    "\n",
    "Afficher ces informations (cf la note ci-dessus pour accéder aux éléments d'un dictionnaire en python)."
   ]
  },
  {
   "cell_type": "code",
   "execution_count": null,
   "metadata": {},
   "outputs": [],
   "source": [
    "title_first_book = \n",
    "price_first_book = \n",
    "average_rating_first_book = \n",
    "print(f\"Titre : {title_first_book}\")\n",
    "print(f\"Prix : {price_first_book}\")\n",
    "print(f\"Note : {average_rating_first_book}\")"
   ]
  },
  {
   "cell_type": "code",
   "execution_count": null,
   "metadata": {},
   "outputs": [],
   "source": [
    "# Afficher les infos clés (price, title, rating) pour chaque livres de la liste data_books\n"
   ]
  },
  {
   "cell_type": "markdown",
   "metadata": {},
   "source": [
    "Créer une liste de dictionnaire contenant les informations de chaque livre sous le format : \n",
    "```\n",
    "[{\n",
    "    \"title\": \"title0\",\n",
    "    \"price\": price_0,\n",
    "    \"rating\": rating_0\n",
    "},\n",
    "{\n",
    "    \"title\": \"title1\",\n",
    "    \"price\": price_1,\n",
    "    \"rating\": rating_1\n",
    "},\n",
    "...\n",
    "]\n",
    "```"
   ]
  },
  {
   "cell_type": "code",
   "execution_count": null,
   "metadata": {},
   "outputs": [],
   "source": [
    "# Création d'une liste de dictionnaires pour les livres\n",
    "books_list = "
   ]
  },
  {
   "cell_type": "code",
   "execution_count": null,
   "metadata": {},
   "outputs": [],
   "source": [
    "# Créer un dataframe à partir de la liste de dictionnaires\n"
   ]
  },
  {
   "cell_type": "markdown",
   "metadata": {},
   "source": [
    "Filtrer les livres pour ne conserver que ceux ayant des valeurs pour les colonnes _price_ et _rating_.\n",
    "\n",
    "- Possibilité d'utiliser la méthode pandas [_dropna_](https://pandas.pydata.org/pandas-docs/stable/reference/api/pandas.DataFrame.dropna.html)\n",
    "- Afficher le dataframe et regarder ce qu'il s'est passé au niveau des index.\n",
    "- Utiliser la méthode [_reset_index_](https://pandas.pydata.org/pandas-docs/stable/reference/api/pandas.DataFrame.reset_index.html) pour réinitialiser les index."
   ]
  },
  {
   "cell_type": "code",
   "execution_count": null,
   "metadata": {},
   "outputs": [],
   "source": [
    "# Filter les livres pour ne conserver que ceux ayant des valeurs pour les colonnes price et rating\n",
    "\n",
    "# Reinitialiser les index du DataFrame\n",
    "\n",
    "# Ajouter une colonne availability = False\n"
   ]
  },
  {
   "cell_type": "markdown",
   "metadata": {},
   "source": [
    "---\n",
    "## Partie 3 : Insertion des données en base"
   ]
  },
  {
   "cell_type": "code",
   "execution_count": null,
   "metadata": {},
   "outputs": [],
   "source": [
    "# Utiliser sqlite3 pour insérer les données dans la base de données book_store dans la table book\n"
   ]
  },
  {
   "cell_type": "code",
   "execution_count": null,
   "metadata": {},
   "outputs": [],
   "source": [
    "# Vérifier que le nombre de livres dans la table correspond au nb de livres scrapés + livres de l'API\n"
   ]
  }
 ],
 "metadata": {
  "kernelspec": {
   "display_name": ".venv",
   "language": "python",
   "name": "python3"
  },
  "language_info": {
   "codemirror_mode": {
    "name": "ipython",
    "version": 3
   },
   "file_extension": ".py",
   "mimetype": "text/x-python",
   "name": "python",
   "nbconvert_exporter": "python",
   "pygments_lexer": "ipython3",
   "version": "3.12.3"
  }
 },
 "nbformat": 4,
 "nbformat_minor": 2
}
